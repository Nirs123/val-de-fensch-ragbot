{
 "cells": [
  {
   "cell_type": "markdown",
   "id": "45698a58",
   "metadata": {},
   "source": [
    "# Test de récupération documents avec Weaviate\n",
    "\n",
    "### Connexion à Weaviate"
   ]
  },
  {
   "cell_type": "code",
   "execution_count": 1,
   "id": "d032c079",
   "metadata": {},
   "outputs": [],
   "source": [
    "import weaviate\n",
    "from weaviate.classes.init import Auth\n",
    "import os\n",
    "from dotenv import load_dotenv\n",
    "\n",
    "load_dotenv()\n",
    "\n",
    "mistral_key = os.getenv(\"MISTRAL_API_KEY\")\n",
    "weaviate_url = os.getenv(\"WEAVIATE_URL\")\n",
    "weaviate_api_key = os.getenv(\"WEAVIATE_API_KEY\")\n",
    "headers = {\n",
    "    \"X-Mistral-Api-Key\": mistral_key,\n",
    "}\n",
    "\n",
    "client = weaviate.connect_to_weaviate_cloud(\n",
    "    cluster_url=weaviate_url,\n",
    "    auth_credentials=Auth.api_key(weaviate_api_key),\n",
    "    headers=headers\n",
    ")\n",
    "\n",
    "collection = client.collections.use(\"val_de_fensch\")"
   ]
  },
  {
   "cell_type": "markdown",
   "id": "7d8e0c88",
   "metadata": {},
   "source": [
    "### Recherche vectorielle"
   ]
  },
  {
   "cell_type": "code",
   "execution_count": 2,
   "id": "eb3dd796",
   "metadata": {},
   "outputs": [],
   "source": [
    "vector_indexs = [\"hnsw\", \"flat\"]\n",
    "vector_distances = [\"cos\", \"dot\", \"l2s\", \"ham\", \"man\"]"
   ]
  },
  {
   "cell_type": "code",
   "execution_count": 10,
   "id": "1861c195",
   "metadata": {},
   "outputs": [],
   "source": [
    "res = collection.query.near_text(\n",
    "    query=\"Quels équipements culturels ont ouvert en 2008 ?\",\n",
    "    target_vector=\"vector_flat_cos\",\n",
    "    limit=3\n",
    ")"
   ]
  },
  {
   "cell_type": "code",
   "execution_count": 11,
   "id": "4b11ec2f",
   "metadata": {},
   "outputs": [
    {
     "name": "stdout",
     "output_type": "stream",
     "text": [
      "Bâtiments > Culture, patrimoine & tourisme > Faits marquants\n",
      "- Embauche d'une chargée de projet Musiques Actuelles.\n",
      "- Validation du projet architectural lors du comité de pilotage de février 2012.\n",
      "- Validation du projet artistique et culturel lors du comité de pilotage de septembre 2012.\n",
      "- Accord du Ministère de la Culture pour la labellisation Scène de Musiques Actuelles (SMAC).\n",
      "- Démarrage des travaux en décembre 2012. \n",
      "\n",
      "\n",
      "Culture & patrimoine > Faits marquants\n",
      "Ouverture du Gueulard +, nouvel équipement dédié aux musiques actuelles à Nilvange, le 14 octobre 2014. Ses missions : diffusion/création, action culturelle, ressource et accompagnement (labellisation SMAC en cours). \n",
      "\n",
      "\n",
      "Cultes > Chiffres-clés : 2014\n",
      "241 212 € HT, le montant engagé en 2014 dans les édifices culturels. \n",
      "\n",
      "\n"
     ]
    }
   ],
   "source": [
    "for elem in res.objects:\n",
    "    print(elem.properties['chunk'], \"\\n\\n\")"
   ]
  },
  {
   "cell_type": "markdown",
   "id": "70c547e7",
   "metadata": {},
   "source": [
    "### Recherche hybride"
   ]
  },
  {
   "cell_type": "code",
   "execution_count": 18,
   "id": "b4d6a8c4",
   "metadata": {},
   "outputs": [],
   "source": [
    "from weaviate.classes.query import MetadataQuery\n",
    "\n",
    "res = collection.query.hybrid(\n",
    "    query=\"Quels équipements culturels ont ouvert en 2008 ?\",\n",
    "    target_vector=\"vector_flat_cos\",\n",
    "    alpha=1,\n",
    "    limit=3,\n",
    "    return_metadata=MetadataQuery(score=True, explain_score=True),\n",
    ")"
   ]
  },
  {
   "cell_type": "code",
   "execution_count": 19,
   "id": "a726a275",
   "metadata": {},
   "outputs": [
    {
     "name": "stdout",
     "output_type": "stream",
     "text": [
      "Bâtiments > Culture, patrimoine & tourisme > Faits marquants\n",
      "- Embauche d'une chargée de projet Musiques Actuelles.\n",
      "- Validation du projet architectural lors du comité de pilotage de février 2012.\n",
      "- Validation du projet artistique et culturel lors du comité de pilotage de septembre 2012.\n",
      "- Accord du Ministère de la Culture pour la labellisation Scène de Musiques Actuelles (SMAC).\n",
      "- Démarrage des travaux en décembre 2012. \n",
      "\n",
      "\n",
      "1.0 \n",
      "Hybrid (Result Set vector,hybridVector) Document 3b995812-6ba6-47b6-a3c6-6258ed91602d: original score 0.81715107, normalized score: 1\n",
      "Culture & patrimoine > Faits marquants\n",
      "Ouverture du Gueulard +, nouvel équipement dédié aux musiques actuelles à Nilvange, le 14 octobre 2014. Ses missions : diffusion/création, action culturelle, ressource et accompagnement (labellisation SMAC en cours). \n",
      "\n",
      "\n",
      "0.9271504878997803 \n",
      "Hybrid (Result Set vector,hybridVector) Document 7783dea0-1e76-4435-8004-ff4df3f2a0d9: original score 0.81493795, normalized score: 0.9271505\n",
      "Cultes > Chiffres-clés : 2014\n",
      "241 212 € HT, le montant engagé en 2014 dans les édifices culturels. \n",
      "\n",
      "\n",
      "0.9054938554763794 \n",
      "Hybrid (Result Set vector,hybridVector) Document a981742e-0928-462b-9bc1-40bab622e01c: original score 0.81428003, normalized score: 0.90549386\n"
     ]
    }
   ],
   "source": [
    "for elem in res.objects:\n",
    "    print(elem.properties['chunk'], \"\\n\\n\")\n",
    "    print(elem.metadata.score, elem.metadata.explain_score)"
   ]
  },
  {
   "cell_type": "markdown",
   "id": "422bfd57",
   "metadata": {},
   "source": [
    "### Options de recherche"
   ]
  },
  {
   "cell_type": "code",
   "execution_count": 31,
   "id": "4131f131",
   "metadata": {},
   "outputs": [],
   "source": [
    "from weaviate.classes.query import Filter\n",
    "\n",
    "res = collection.query.near_text(\n",
    "    query=\"Quels équipements culturels ont ouvert en 2012 ?\",\n",
    "    target_vector=\"vector_flat_cos\",\n",
    "    limit=3,\n",
    "    filters=Filter.by_property(\"year\").equal(2012)\n",
    ")"
   ]
  },
  {
   "cell_type": "code",
   "execution_count": 32,
   "id": "080d6cc6",
   "metadata": {},
   "outputs": [
    {
     "name": "stdout",
     "output_type": "stream",
     "text": [
      "Object(uuid=_WeaviateUUIDInt('883dee03-6c2a-45fa-82fb-b59375c879dc'), metadata=MetadataReturn(creation_time=None, last_update_time=None, distance=None, certainty=None, score=None, explain_score=None, is_consistent=None, rerank_score=None), properties={'year': 2012, 'page': 23, 'chunk': \"Bâtiments > Culture, patrimoine & tourisme > Chiffres-clés : 2012\\n- 113 500 € pour la préfiguration Musiques Actuelles (communication et événementiel) qui s'ajoutent à la subvention versée à l'association Pavé pour développer des missions dans le domaine des Musiques Actuelles (55 900 € en 2013).\\n- 2,9 millions d'euros pour les travaux de la SMAC.\", 'category': 'Bâtiments'}, references=None, vector={}, collection='Val_de_fensch') \n",
      "\n",
      "\n",
      "Object(uuid=_WeaviateUUIDInt('02ab49a2-2eeb-4ac0-a389-de9fe1c2153d'), metadata=MetadataReturn(creation_time=None, last_update_time=None, distance=None, certainty=None, score=None, explain_score=None, is_consistent=None, rerank_score=None), properties={'year': 2012, 'page': 18, 'chunk': \"Bâtiments > Chiffres-clés : 2012\\n162 499,39 € TTC, le montant engagé en 2012 dans les édifices cultuels.\\n2 945 031,12 € TTC, le montant dépensé depuis l'année 2000 dans les édifices cultuels.\", 'category': 'Bâtiments'}, references=None, vector={}, collection='Val_de_fensch') \n",
      "\n",
      "\n",
      "Object(uuid=_WeaviateUUIDInt('3b995812-6ba6-47b6-a3c6-6258ed91602d'), metadata=MetadataReturn(creation_time=None, last_update_time=None, distance=None, certainty=None, score=None, explain_score=None, is_consistent=None, rerank_score=None), properties={'year': 2012, 'page': 22, 'chunk': \"Bâtiments > Culture, patrimoine & tourisme > Faits marquants\\n- Embauche d'une chargée de projet Musiques Actuelles.\\n- Validation du projet architectural lors du comité de pilotage de février 2012.\\n- Validation du projet artistique et culturel lors du comité de pilotage de septembre 2012.\\n- Accord du Ministère de la Culture pour la labellisation Scène de Musiques Actuelles (SMAC).\\n- Démarrage des travaux en décembre 2012.\", 'category': 'Bâtiments'}, references=None, vector={}, collection='Val_de_fensch') \n",
      "\n",
      "\n"
     ]
    }
   ],
   "source": [
    "for elem in res.objects:\n",
    "    print(elem, \"\\n\\n\")"
   ]
  },
  {
   "cell_type": "code",
   "execution_count": null,
   "id": "6e4a56c6",
   "metadata": {},
   "outputs": [],
   "source": []
  }
 ],
 "metadata": {
  "kernelspec": {
   "display_name": "Python 3",
   "language": "python",
   "name": "python3"
  },
  "language_info": {
   "codemirror_mode": {
    "name": "ipython",
    "version": 3
   },
   "file_extension": ".py",
   "mimetype": "text/x-python",
   "name": "python",
   "nbconvert_exporter": "python",
   "pygments_lexer": "ipython3",
   "version": "3.11.9"
  }
 },
 "nbformat": 4,
 "nbformat_minor": 5
}
