{
 "cells": [
  {
   "cell_type": "markdown",
   "id": "367aa2db",
   "metadata": {},
   "source": [
    "# Upload des rapports d'activité sur la plateforme Mistral"
   ]
  },
  {
   "cell_type": "code",
   "execution_count": 2,
   "id": "3209b2cf",
   "metadata": {},
   "outputs": [],
   "source": [
    "import os\n",
    "from mistralai import Mistral\n",
    "\n",
    "api_key = os.environ[\"MISTRAL_API_KEY\"]\n",
    "client = Mistral(api_key=api_key)"
   ]
  },
  {
   "cell_type": "code",
   "execution_count": 6,
   "id": "89645013",
   "metadata": {},
   "outputs": [
    {
     "name": "stdout",
     "output_type": "stream",
     "text": [
      "Uploading year 2009\n",
      "Uploading year 2010\n",
      "Uploading year 2011\n",
      "Uploading year 2012\n",
      "Uploading year 2013\n",
      "Uploading year 2014\n",
      "Uploading year 2015\n",
      "Uploading year 2016\n",
      "Uploading year 2017\n",
      "Uploading year 2018\n",
      "Uploading year 2019\n",
      "Uploading year 2020\n",
      "Uploading year 2021\n",
      "Uploading year 2022\n",
      "Uploading year 2023\n",
      "Uploading year 2024\n"
     ]
    }
   ],
   "source": [
    "for year in range (2009, 2025):\n",
    "    print(f\"Uploading year {year}\")\n",
    "    uploaded_pdf = client.files.upload(\n",
    "        file={\n",
    "            \"file_name\": f\"../pdf/RA-{year}.pdf\",\n",
    "            \"content\": open(f\"../pdf/RA-{year}.pdf\", \"rb\"),\n",
    "        },\n",
    "        purpose=\"ocr\"\n",
    "    )"
   ]
  },
  {
   "cell_type": "code",
   "execution_count": 7,
   "id": "e08389cb",
   "metadata": {},
   "outputs": [
    {
     "name": "stdout",
     "output_type": "stream",
     "text": [
      "id='9a378ab3-b2cd-4795-b6e6-6f5a66d1a0b0' object='file' size_bytes=8465243 created_at=1754822253 filename='RA-2024.pdf' purpose='ocr' sample_type='ocr_input' source='upload' num_lines=0\n",
      "id='1d091d91-ed85-4e5d-8a19-17bfb3cf9fd3' object='file' size_bytes=7392740 created_at=1754822154 filename='RA-2023.pdf' purpose='ocr' sample_type='ocr_input' source='upload' num_lines=0\n",
      "id='0cc0a241-2a38-450c-97d0-207712d6e55a' object='file' size_bytes=7964722 created_at=1754822062 filename='RA-2022.pdf' purpose='ocr' sample_type='ocr_input' source='upload' num_lines=0\n",
      "id='b7322fcd-313f-43eb-8303-e9908f10daac' object='file' size_bytes=5533290 created_at=1754821978 filename='RA-2021.pdf' purpose='ocr' sample_type='ocr_input' source='upload' num_lines=0\n",
      "id='5e21c349-15aa-4c1c-8383-9cc456e35241' object='file' size_bytes=8551236 created_at=1754821915 filename='RA-2020.pdf' purpose='ocr' sample_type='ocr_input' source='upload' num_lines=0\n",
      "id='2e6b5dd0-9d77-42f4-9117-6a007e908ef4' object='file' size_bytes=3645304 created_at=1754821825 filename='RA-2019.pdf' purpose='ocr' sample_type='ocr_input' source='upload' num_lines=0\n",
      "id='3b8ba2d5-d2ed-4363-af3d-6a2d62aa81c5' object='file' size_bytes=4009135 created_at=1754821787 filename='RA-2018.pdf' purpose='ocr' sample_type='ocr_input' source='upload' num_lines=0\n",
      "id='99bd080c-f5f2-457f-a182-e90861391a50' object='file' size_bytes=2497802 created_at=1754821747 filename='RA-2017.pdf' purpose='ocr' sample_type='ocr_input' source='upload' num_lines=0\n",
      "id='246c75c9-c2d6-4656-9ef8-c7fd75303b4e' object='file' size_bytes=1382269 created_at=1754821722 filename='RA-2016.pdf' purpose='ocr' sample_type='ocr_input' source='upload' num_lines=0\n",
      "id='2cd5354b-0ee4-4c1b-ad4e-0eee0867d800' object='file' size_bytes=2976199 created_at=1754821707 filename='RA-2015.pdf' purpose='ocr' sample_type='ocr_input' source='upload' num_lines=0\n",
      "id='1ccea6d5-f479-46dc-80b7-2e85634dee5f' object='file' size_bytes=2249598 created_at=1754821676 filename='RA-2014.pdf' purpose='ocr' sample_type='ocr_input' source='upload' num_lines=0\n",
      "id='a525d292-e141-4b61-8931-da8c2a0910eb' object='file' size_bytes=1565647 created_at=1754821654 filename='RA-2013.pdf' purpose='ocr' sample_type='ocr_input' source='upload' num_lines=0\n",
      "id='4f4b901b-7694-47ef-90da-fc26c7a4dea3' object='file' size_bytes=1089808 created_at=1754821638 filename='RA-2012.pdf' purpose='ocr' sample_type='ocr_input' source='upload' num_lines=0\n",
      "id='0334bbe8-5ac9-45b2-b7d4-0006011b4504' object='file' size_bytes=5228072 created_at=1754821627 filename='RA-2011.pdf' purpose='ocr' sample_type='ocr_input' source='upload' num_lines=0\n",
      "id='0ec00f26-7dff-4846-8617-30144de8e683' object='file' size_bytes=5076453 created_at=1754821576 filename='RA-2010.pdf' purpose='ocr' sample_type='ocr_input' source='upload' num_lines=0\n",
      "id='0121a6f8-6824-4578-8984-531640d583cb' object='file' size_bytes=5820022 created_at=1754821522 filename='RA-2009.pdf' purpose='ocr' sample_type='ocr_input' source='upload' num_lines=0\n"
     ]
    }
   ],
   "source": [
    "for file in client.files.list().data:\n",
    "    print(file)"
   ]
  },
  {
   "cell_type": "code",
   "execution_count": null,
   "id": "f000a53b",
   "metadata": {},
   "outputs": [],
   "source": []
  }
 ],
 "metadata": {
  "kernelspec": {
   "display_name": "Python 3",
   "language": "python",
   "name": "python3"
  },
  "language_info": {
   "codemirror_mode": {
    "name": "ipython",
    "version": 3
   },
   "file_extension": ".py",
   "mimetype": "text/x-python",
   "name": "python",
   "nbconvert_exporter": "python",
   "pygments_lexer": "ipython3",
   "version": "3.11.9"
  }
 },
 "nbformat": 4,
 "nbformat_minor": 5
}
