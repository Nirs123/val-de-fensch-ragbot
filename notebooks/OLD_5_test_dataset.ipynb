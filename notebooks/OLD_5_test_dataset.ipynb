{
 "cells": [
  {
   "cell_type": "markdown",
   "id": "8df76b02",
   "metadata": {},
   "source": [
    "# Création du jeu de données d'évaluation"
   ]
  },
  {
   "cell_type": "code",
   "execution_count": 18,
   "id": "ebe53b11",
   "metadata": {},
   "outputs": [],
   "source": [
    "import os\n",
    "from mistralai import Mistral\n",
    "\n",
    "api_key = os.environ[\"MISTRAL_API_KEY\"]\n",
    "client = Mistral(api_key=api_key)"
   ]
  },
  {
   "cell_type": "markdown",
   "id": "0f51503c",
   "metadata": {},
   "source": [
    "La génération de question d'évaluation se divise en deux groupes : \n",
    "- Les questions \"temporelles\" qui impliquent alors une année spécifique\n",
    "- Les questions \"généralles\" qui n'ont pas de temporalité associée\n",
    "\n",
    "Pour ces deux groupes, nous avons 5 catégories de questions :\n",
    "- Questions temporelles :\n",
    "    - Données démographiques et socio-économiques\n",
    "    - Projets, réalisation, urbanisme\n",
    "    - Budget et finance\n",
    "    - Évenements et manifestations\n",
    "    - Gouvernance et ressources humaines\n",
    "- Questions généralles :\n",
    "    - Compétences et missions\n",
    "    - Équipements et infrastructures\n",
    "    - Géographie et territoire\n",
    "    - Communication et outils numérique\n",
    "    - Chiffres clés\n",
    "\n",
    "Pour le groupe temporel, nous allons générer 2 questions par catégorie par année (2 questions par 5 catégories pour 16 rapports d'activités = 160 questions). Au moment de la génération, nous allons également envoyer le résultat brut de l'OCR pour que les questions générées soient adaptées. \n",
    "\n",
    "Pour le groupe général, nous allons générer 40 questions par catégories. Nous fournirons également les 110 questions générées par le groupe temporel pour que le LLM connaisse notre contexte et adapte ses questions.\n",
    "\n",
    "### Groupe temporel\n",
    "\n",
    "#### Création des questions"
   ]
  },
  {
   "cell_type": "code",
   "execution_count": 63,
   "id": "21002569",
   "metadata": {},
   "outputs": [],
   "source": [
    "prompt = \"\"\"\n",
    "Ton objectif est de générer des questions sur un rapport d'activité d'une année précise d'une communauté de commune.\n",
    "\n",
    "Tu devras générer 2 questions par catégorie de questions qui sont les suivantes avec deux exemple : \n",
    "- Données démographiques et socio-économiques : Quelle était le nombre d'habitant en 2008 ? Combien d’emplois ont été créés sur le territoire en 2008 ?\n",
    "- Projets, réalisation, urbanisme et infrastructures : Quels projets ont été inaugurés en 2008 par la CAVF ? Quels équipements culturels ont ouvert en 2008 ?\n",
    "- Budget et finance : Quel était le montant des principales dépenses d’investissement de la CAVF en 2008 ? Quel était le coût total de la réhabilitation de la piscine de Nilvange en 2008 ?\n",
    "- Évenements et manifestations : Quels événements culturels ont été organisés au parc du haut-fourneau U4 en 2008 ? Quels étaient les temps forts de la saison culturelle 2008 ?\n",
    "- Gouvernance et ressources humaines : Quels étaient les membres du bureau de la CAVF en 2008 ? Quels étaient les rôles du conseil de développement en 2008 ?\n",
    "\n",
    "Commme tu peux le constater, tu peux potentiellement adapter tes questions aux données spécifiques du rapport que tu as.\n",
    "\n",
    "Répond selon au format JSON suivant les deux questions demandées par catégorie :\n",
    "\n",
    "```json\n",
    "\"questions\" : {\n",
    "    \"demographie\": [\n",
    "        \"question 1\",\n",
    "        \"question 2\",\n",
    "    ],\n",
    "    \"projets\": [\n",
    "        \"question 1\",\n",
    "        \"question 2\",\n",
    "    ],\n",
    "    \"finance\": [\n",
    "        \"question 1\",\n",
    "        \"question 2\",\n",
    "    ],\n",
    "    \"evenements\": [\n",
    "        \"question 1\",\n",
    "        \"question 2\",\n",
    "    ],\n",
    "    \"gouvernance\": [\n",
    "        \"question 1\",\n",
    "        \"question 2\",\n",
    "    ],\n",
    "}\n",
    "```\n",
    "\n",
    "Et voici le document : \n",
    "\n",
    "<document>\n",
    "DOCUMENT_TO_REPLACE\n",
    "\n",
    "\n",
    "</document>\n",
    "\n",
    "Le document est terminé.\n",
    "\n",
    "\n",
    "Respectes bien le format JSON attendu avec les mêmes noms clés de catégories, et n'oublies pas de rédiger des questions pour l'année YEAR_TO_REPLACE qui peuvent être répondues avec le document que tu reçois, étant de cette année YEAR_TO_REPLACE\n",
    "\"\"\""
   ]
  },
  {
   "cell_type": "code",
   "execution_count": null,
   "id": "97f063a0",
   "metadata": {},
   "outputs": [],
   "source": [
    "import json\n",
    "from collections import defaultdict\n",
    "\n",
    "answers = defaultdict()\n",
    "with open(\"../datasets/ocr_raw.json\") as file:\n",
    "    data = json.load(file)\n",
    "\n",
    "    for year in range(2009, 2025):\n",
    "        raw_ocr = \"\\n\".join([line[1] for line in data[str(year)]])\n",
    "\n",
    "        answer = client.chat.complete(\n",
    "            model=\"mistral-small-2506\",\n",
    "            messages=[\n",
    "                {\n",
    "                    \"role\": \"user\",\n",
    "                    \"content\": prompt.replace(\"DOCUMENT_TO_REPLACE\", raw_ocr).replace(\"YEAR_TO_REPLACE\", str(year)),\n",
    "                }\n",
    "                ],\n",
    "                response_format={\n",
    "                    \"type\": \"json_object\",\n",
    "                }\n",
    "        )\n",
    "        \n",
    "        answers[str(year)] = json.loads(answer.choices[0].message.content)[\"questions\"]\n"
   ]
  },
  {
   "cell_type": "code",
   "execution_count": 68,
   "id": "8f906b9a",
   "metadata": {},
   "outputs": [],
   "source": [
    "rows = []\n",
    "\n",
    "for year in range(2009, 2025):\n",
    "    for category, questions in answers[str(year)].items():\n",
    "        rows.append({\n",
    "            \"question\": questions[0],\n",
    "            \"category\": category,\n",
    "            \"year\": year\n",
    "        })\n",
    "        rows.append({\n",
    "            \"question\": questions[1],\n",
    "            \"category\": category,\n",
    "            \"year\": year\n",
    "        })"
   ]
  },
  {
   "cell_type": "markdown",
   "id": "64c55cc8",
   "metadata": {},
   "source": [
    "#### Récupération des documents pertinents"
   ]
  },
  {
   "cell_type": "code",
   "execution_count": null,
   "id": "ca587055",
   "metadata": {},
   "outputs": [],
   "source": []
  },
  {
   "cell_type": "markdown",
   "id": "e33d3d7a",
   "metadata": {},
   "source": [
    "### Groupe général"
   ]
  },
  {
   "cell_type": "markdown",
   "id": "de0a8cf3",
   "metadata": {},
   "source": [
    "### Création et sauvegarde du dataset"
   ]
  },
  {
   "cell_type": "markdown",
   "id": "5a0100af",
   "metadata": {},
   "source": []
  }
 ],
 "metadata": {
  "kernelspec": {
   "display_name": "Python 3",
   "language": "python",
   "name": "python3"
  },
  "language_info": {
   "codemirror_mode": {
    "name": "ipython",
    "version": 3
   },
   "file_extension": ".py",
   "mimetype": "text/x-python",
   "name": "python",
   "nbconvert_exporter": "python",
   "pygments_lexer": "ipython3",
   "version": "3.11.9"
  }
 },
 "nbformat": 4,
 "nbformat_minor": 5
}
