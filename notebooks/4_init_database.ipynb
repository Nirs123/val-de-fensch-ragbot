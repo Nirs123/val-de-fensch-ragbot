{
 "cells": [
  {
   "cell_type": "markdown",
   "id": "f13a31b0",
   "metadata": {},
   "source": [
    "# Création de la base de données vectorielles\n",
    "\n",
    "### Connexion à Weaviate"
   ]
  },
  {
   "cell_type": "code",
   "execution_count": 1,
   "id": "ce67e0b1",
   "metadata": {},
   "outputs": [
    {
     "name": "stdout",
     "output_type": "stream",
     "text": [
      "True\n"
     ]
    }
   ],
   "source": [
    "import weaviate\n",
    "from weaviate.classes.init import Auth\n",
    "import os\n",
    "from dotenv import load_dotenv\n",
    "\n",
    "load_dotenv()\n",
    "\n",
    "mistral_key = os.getenv(\"MISTRAL_API_KEY\")\n",
    "weaviate_url = os.getenv(\"WEAVIATE_URL\")\n",
    "weaviate_api_key = os.getenv(\"WEAVIATE_API_KEY\")\n",
    "headers = {\n",
    "    \"X-Mistral-Api-Key\": mistral_key,\n",
    "}\n",
    "\n",
    "client = weaviate.connect_to_weaviate_cloud(\n",
    "    cluster_url=weaviate_url,\n",
    "    auth_credentials=Auth.api_key(weaviate_api_key),\n",
    "    headers=headers\n",
    ")\n",
    "\n",
    "print(client.is_ready())"
   ]
  },
  {
   "cell_type": "markdown",
   "id": "ae20525f",
   "metadata": {},
   "source": [
    "### Création de la collection"
   ]
  },
  {
   "cell_type": "code",
   "execution_count": 2,
   "id": "23539405",
   "metadata": {},
   "outputs": [
    {
     "name": "stdout",
     "output_type": "stream",
     "text": [
      "{'vector_hnsw_cos': _VectorIndexConfigHNSWCreate(distance=<VectorDistances.COSINE: 'cosine'>, multivector=None, quantizer=None, cleanupIntervalSeconds=None, dynamicEfMin=None, dynamicEfMax=None, dynamicEfFactor=None, efConstruction=None, ef=None, filterStrategy=None, flatSearchCutoff=None, maxConnections=None, vectorCacheMaxObjects=None), 'vector_hnsw_dot': _VectorIndexConfigHNSWCreate(distance=<VectorDistances.DOT: 'dot'>, multivector=None, quantizer=None, cleanupIntervalSeconds=None, dynamicEfMin=None, dynamicEfMax=None, dynamicEfFactor=None, efConstruction=None, ef=None, filterStrategy=None, flatSearchCutoff=None, maxConnections=None, vectorCacheMaxObjects=None), 'vector_hnsw_l2s': _VectorIndexConfigHNSWCreate(distance=<VectorDistances.L2_SQUARED: 'l2-squared'>, multivector=None, quantizer=None, cleanupIntervalSeconds=None, dynamicEfMin=None, dynamicEfMax=None, dynamicEfFactor=None, efConstruction=None, ef=None, filterStrategy=None, flatSearchCutoff=None, maxConnections=None, vectorCacheMaxObjects=None), 'vector_hnsw_ham': _VectorIndexConfigHNSWCreate(distance=<VectorDistances.HAMMING: 'hamming'>, multivector=None, quantizer=None, cleanupIntervalSeconds=None, dynamicEfMin=None, dynamicEfMax=None, dynamicEfFactor=None, efConstruction=None, ef=None, filterStrategy=None, flatSearchCutoff=None, maxConnections=None, vectorCacheMaxObjects=None), 'vector_hnsw_man': _VectorIndexConfigHNSWCreate(distance=<VectorDistances.MANHATTAN: 'manhattan'>, multivector=None, quantizer=None, cleanupIntervalSeconds=None, dynamicEfMin=None, dynamicEfMax=None, dynamicEfFactor=None, efConstruction=None, ef=None, filterStrategy=None, flatSearchCutoff=None, maxConnections=None, vectorCacheMaxObjects=None), 'vector_flat_cos': _VectorIndexConfigFlatCreate(distance=<VectorDistances.COSINE: 'cosine'>, multivector=None, quantizer=None, vectorCacheMaxObjects=None), 'vector_flat_dot': _VectorIndexConfigFlatCreate(distance=<VectorDistances.DOT: 'dot'>, multivector=None, quantizer=None, vectorCacheMaxObjects=None), 'vector_flat_l2s': _VectorIndexConfigFlatCreate(distance=<VectorDistances.L2_SQUARED: 'l2-squared'>, multivector=None, quantizer=None, vectorCacheMaxObjects=None), 'vector_flat_ham': _VectorIndexConfigFlatCreate(distance=<VectorDistances.HAMMING: 'hamming'>, multivector=None, quantizer=None, vectorCacheMaxObjects=None), 'vector_flat_man': _VectorIndexConfigFlatCreate(distance=<VectorDistances.MANHATTAN: 'manhattan'>, multivector=None, quantizer=None, vectorCacheMaxObjects=None)}\n"
     ]
    }
   ],
   "source": [
    "from weaviate.classes.config import Configure, Property, DataType, VectorDistances\n",
    "\n",
    "vector_config_dict = {}\n",
    "\n",
    "vector_indexs = {\n",
    "    \"hnsw\": Configure.VectorIndex.hnsw,\n",
    "    \"flat\": Configure.VectorIndex.flat\n",
    "}\n",
    "vector_distances = {\n",
    "    \"cos\": VectorDistances.COSINE,\n",
    "    \"dot\": VectorDistances.DOT,\n",
    "    \"l2s\": VectorDistances.L2_SQUARED,\n",
    "    \"ham\": VectorDistances.HAMMING,\n",
    "    \"man\": VectorDistances.MANHATTAN\n",
    "}\n",
    "\n",
    "for index_name, index_object in vector_indexs.items():\n",
    "    for distance_name, distance_object in vector_distances.items():\n",
    "        vector_config_dict[f\"vector_{index_name}_{distance_name}\"] = index_object(distance_metric=distance_object)\n",
    "\n",
    "print(vector_config_dict)"
   ]
  },
  {
   "cell_type": "code",
   "execution_count": 4,
   "id": "f13271ab",
   "metadata": {},
   "outputs": [
    {
     "data": {
      "text/plain": [
       "<weaviate.collections.collection.sync.Collection at 0x22aab300550>"
      ]
     },
     "execution_count": 4,
     "metadata": {},
     "output_type": "execute_result"
    }
   ],
   "source": [
    "client.collections.create(\n",
    "    \"val_de_fensch\",\n",
    "    properties=[\n",
    "        Property(name=\"year\", data_type=DataType.INT),\n",
    "        Property(name=\"page\", data_type=DataType.INT),\n",
    "        Property(name=\"category\", data_type=DataType.TEXT),\n",
    "        Property(name=\"chunk\", data_type=DataType.TEXT)\n",
    "    ],\n",
    "    vector_config=[\n",
    "        Configure.Vectors.text2vec_mistral(\n",
    "            name=config_name,\n",
    "            source_properties=[\"chunk\"],\n",
    "            vector_index_config=config\n",
    "        )\n",
    "        for config_name, config in vector_config_dict.items()\n",
    "    ]\n",
    ")"
   ]
  },
  {
   "cell_type": "markdown",
   "id": "1034beaf",
   "metadata": {},
   "source": [
    "### Chargement du Dataset"
   ]
  },
  {
   "cell_type": "code",
   "execution_count": 5,
   "id": "11c08b3b",
   "metadata": {},
   "outputs": [],
   "source": [
    "val_de_fensch_collection = client.collections.use(\"val_de_fensch\")"
   ]
  },
  {
   "cell_type": "code",
   "execution_count": 6,
   "id": "e3d95bda",
   "metadata": {},
   "outputs": [
    {
     "data": {
      "text/html": [
       "<div><style>\n",
       ".dataframe > thead > tr,\n",
       ".dataframe > tbody > tr {\n",
       "  text-align: right;\n",
       "  white-space: pre-wrap;\n",
       "}\n",
       "</style>\n",
       "<small>shape: (5, 4)</small><table border=\"1\" class=\"dataframe\"><thead><tr><th>year</th><th>page</th><th>category</th><th>chunk</th></tr><tr><td>i64</td><td>i64</td><td>str</td><td>str</td></tr></thead><tbody><tr><td>2012</td><td>27</td><td>&quot;Bâtiments&quot;</td><td>&quot;Bâtiments &gt; Copropriété les Ti…</td></tr><tr><td>2012</td><td>21</td><td>&quot;Bâtiments&quot;</td><td>&quot;Bâtiments &gt; Culture, patrimoin…</td></tr><tr><td>2019</td><td>20</td><td>&quot;Bâtiments et Cultes&quot;</td><td>&quot;Bâtiments et Cultes &gt; Sports &gt;…</td></tr><tr><td>2020</td><td>21</td><td>&quot;INFRASTRUCTURES&quot;</td><td>&quot;INFRASTRUCTURES &gt; Perspectives…</td></tr><tr><td>2022</td><td>18</td><td>&quot;28&quot;</td><td>&quot;28 &gt; 628 kg\n",
       "De déchets produit…</td></tr></tbody></table></div>"
      ],
      "text/plain": [
       "shape: (5, 4)\n",
       "┌──────┬──────┬─────────────────────┬─────────────────────────────────┐\n",
       "│ year ┆ page ┆ category            ┆ chunk                           │\n",
       "│ ---  ┆ ---  ┆ ---                 ┆ ---                             │\n",
       "│ i64  ┆ i64  ┆ str                 ┆ str                             │\n",
       "╞══════╪══════╪═════════════════════╪═════════════════════════════════╡\n",
       "│ 2012 ┆ 27   ┆ Bâtiments           ┆ Bâtiments > Copropriété les Ti… │\n",
       "│ 2012 ┆ 21   ┆ Bâtiments           ┆ Bâtiments > Culture, patrimoin… │\n",
       "│ 2019 ┆ 20   ┆ Bâtiments et Cultes ┆ Bâtiments et Cultes > Sports >… │\n",
       "│ 2020 ┆ 21   ┆ INFRASTRUCTURES     ┆ INFRASTRUCTURES > Perspectives… │\n",
       "│ 2022 ┆ 18   ┆ 28                  ┆ 28 > 628 kg                     │\n",
       "│      ┆      ┆                     ┆ De déchets produit…             │\n",
       "└──────┴──────┴─────────────────────┴─────────────────────────────────┘"
      ]
     },
     "execution_count": 6,
     "metadata": {},
     "output_type": "execute_result"
    }
   ],
   "source": [
    "import polars as pl\n",
    "\n",
    "df = pl.read_csv(\"../datasets/chunks_cleaned.csv\")\n",
    "\n",
    "df.head(5)"
   ]
  },
  {
   "cell_type": "markdown",
   "id": "ddffa767",
   "metadata": {},
   "source": [
    "### Population de la collection"
   ]
  },
  {
   "cell_type": "code",
   "execution_count": 7,
   "id": "b9161875",
   "metadata": {},
   "outputs": [],
   "source": [
    "with val_de_fensch_collection.batch.rate_limit(60) as batch:\n",
    "    for row in df.iter_rows(named=True):\n",
    "        batch.add_object(properties=row)\n",
    "        if batch.number_errors > 10:\n",
    "            print(\"Batch import stopped due to excessive errors.\")\n",
    "            break"
   ]
  },
  {
   "cell_type": "code",
   "execution_count": null,
   "id": "22f760ba",
   "metadata": {},
   "outputs": [],
   "source": []
  }
 ],
 "metadata": {
  "kernelspec": {
   "display_name": "Python 3",
   "language": "python",
   "name": "python3"
  },
  "language_info": {
   "codemirror_mode": {
    "name": "ipython",
    "version": 3
   },
   "file_extension": ".py",
   "mimetype": "text/x-python",
   "name": "python",
   "nbconvert_exporter": "python",
   "pygments_lexer": "ipython3",
   "version": "3.11.9"
  }
 },
 "nbformat": 4,
 "nbformat_minor": 5
}
